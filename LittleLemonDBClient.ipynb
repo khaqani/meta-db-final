{
 "cells": [
  {
   "cell_type": "code",
   "execution_count": null,
   "metadata": {},
   "outputs": [],
   "source": [
    "%pip install mysql-connector-python"
   ]
  },
  {
   "cell_type": "code",
   "execution_count": 2,
   "metadata": {},
   "outputs": [],
   "source": [
    "import mysql.connector as connector"
   ]
  },
  {
   "cell_type": "code",
   "execution_count": 5,
   "metadata": {},
   "outputs": [],
   "source": [
    "dbuser = 'your_username'\n",
    "dbpwd = 'your_password'\n",
    "dbname = 'littlelemondb'"
   ]
  },
  {
   "cell_type": "code",
   "execution_count": 6,
   "metadata": {},
   "outputs": [],
   "source": [
    "\n",
    "connection = connector.connect(user=dbuser, password=dbpwd, db=dbname)"
   ]
  },
  {
   "cell_type": "code",
   "execution_count": 7,
   "metadata": {},
   "outputs": [],
   "source": [
    "cursor = connection.cursor()"
   ]
  },
  {
   "cell_type": "code",
   "execution_count": null,
   "metadata": {},
   "outputs": [],
   "source": [
    "show_tables_query = 'SHOW TABLES'\n",
    "\n",
    "cursor.execute(show_tables_query)\n",
    "\n",
    "result = cursor.fetchall()\n",
    "\n",
    "for table in result:\n",
    "    print(table)"
   ]
  },
  {
   "cell_type": "code",
   "execution_count": null,
   "metadata": {},
   "outputs": [],
   "source": [
    "# Task 3\n",
    "# Query with table JOIN\n",
    "\n",
    "# For the third and final task, Little Lemon need you to return specific details from your database. They require the full name and contact details for every customer that has placed an order greater than $60 for a promotional campaign.\n",
    "\n",
    "customer_query = '''\n",
    "SELECT c.Name, c.ContactNumber, c.Email\n",
    "FROM Customers c\n",
    "INNER JOIN Orders o ON c.CustomerID = o.CustomerID\n",
    "WHERE o.TotalCost > 60;\n",
    "'''\n",
    "\n",
    "cursor.execute(customer_query)\n",
    "\n",
    "result = cursor.fetchall()\n",
    "\n",
    "for customer in result:\n",
    "    print(customer)"
   ]
  },
  {
   "cell_type": "code",
   "execution_count": null,
   "metadata": {},
   "outputs": [],
   "source": [
    "cursor.callproc('GetMaxQuantity')\n",
    "\n",
    "result = next(cursor.stored_results())\n",
    "dataset = result.fetchall()\n",
    "\n",
    "for data in dataset:\n",
    "    print(data)"
   ]
  },
  {
   "cell_type": "code",
   "execution_count": null,
   "metadata": {},
   "outputs": [],
   "source": [
    "cursor.callproc('ManageBooking', args=['2023-10-08', 8])\n",
    "\n",
    "result = next(cursor.stored_results())\n",
    "dataset = result.fetchall()\n",
    "\n",
    "for data in dataset:\n",
    "    print(data)"
   ]
  },
  {
   "cell_type": "code",
   "execution_count": null,
   "metadata": {},
   "outputs": [],
   "source": [
    "try:\n",
    "    cursor.callproc('AddBooking', args=[99, 99, 99, '2023-10-09'])\n",
    "except connector.Error as err:\n",
    "    print(f\"Error code: {err.errno}\")\n",
    "    print(f\"Error message: {err.msg}\")"
   ]
  },
  {
   "cell_type": "code",
   "execution_count": null,
   "metadata": {},
   "outputs": [],
   "source": [
    "try:\n",
    "    cursor.callproc('UpdateBooking', args=[99, '2023-10-09'])\n",
    "except connector.Error as err:\n",
    "    print(f\"Error code: {err.errno}\")\n",
    "    print(f\"Error message: {err.msg}\")"
   ]
  },
  {
   "cell_type": "code",
   "execution_count": null,
   "metadata": {},
   "outputs": [],
   "source": [
    "try:\n",
    "    cursor.callproc('CancelBooking', args=[99])\n",
    "except connector.Error as err:\n",
    "    print(f\"Error code: {err.errno}\")\n",
    "    print(f\"Error message: {err.msg}\")\n",
    "finally:\n",
    "    cursor.close()\n",
    "    connection.close()"
   ]
  }
 ],
 "metadata": {
  "kernelspec": {
   "display_name": "Python 3 (ipykernel)",
   "language": "python",
   "name": "python3"
  },
  "language_info": {
   "codemirror_mode": {
    "name": "ipython",
    "version": 3
   },
   "file_extension": ".py",
   "mimetype": "text/x-python",
   "name": "python",
   "nbconvert_exporter": "python",
   "pygments_lexer": "ipython3",
   "version": "3.11.5"
  }
 },
 "nbformat": 4,
 "nbformat_minor": 4
}
